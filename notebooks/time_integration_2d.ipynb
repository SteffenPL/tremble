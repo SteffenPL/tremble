{
 "cells": [
  {
   "cell_type": "code",
   "execution_count": 36,
   "metadata": {},
   "outputs": [],
   "source": [
    "import fenics as fe\n",
    "from fenics import inner, grad, div, det, rot, dot, tr\n",
    "\n",
    "import matplotlib.pyplot as plt\n",
    "%matplotlib inline\n",
    "plt.rcParams['image.cmap'] = 'jet'\n",
    "\n",
    "import ipywidgets as ipw\n",
    "\n",
    "from pyamg.util import condest, cond\n",
    "import numpy as np"
   ]
  },
  {
   "cell_type": "code",
   "execution_count": 37,
   "metadata": {},
   "outputs": [],
   "source": [
    "mesh = fe.Mesh( '../geo/muscle_2d.xml')\n",
    "#mesh = fe.refine(mesh)\n",
    "\n",
    "L0 = 1e-2\n",
    "\n",
    "coords = mesh.coordinates()\n",
    "coords *= L0\n",
    "mesh.bounding_box_tree().build(mesh)\n",
    "\n",
    "\n",
    "# Init function spaces\n",
    "element_disp = fe.VectorElement(\"P\", mesh.ufl_cell(), 2)\n",
    "element = fe.FiniteElement(\"P\", mesh.ufl_cell(), 1)\n",
    "\n",
    "# Mixed function space\n",
    "TH = element * element_disp\n",
    "V = fe.FunctionSpace(mesh, TH)\n",
    "V_p = fe.FunctionSpace(mesh, element)\n",
    "V_disp = fe.FunctionSpace(mesh, element_disp)\n",
    "\n",
    "# Define Boundaries\n",
    "left =  fe.CompiledSubDomain(\"near(x[1], side, 0.01) && on_boundary\", side = -20.0*L0)\n",
    "right = fe.CompiledSubDomain(\"near(x[1], side, 0.01) && on_boundary\", side = 20.0*L0)\n",
    "\n",
    "# Define acting force\n",
    "b = fe.Expression((\"scale*gravity\", \"0.\"), scale=0., gravity=9.81, element=element_disp)       # Body force per unit volume\n",
    "t_bar  = fe.Constant((0.0,  0.0))   # Traction force on the boundary\n",
    "\n",
    "\n",
    "d = 2\n",
    "\n",
    "# Initialize mesh function for boundary domains\n",
    "boundaries = fe.MeshFunction('size_t', mesh, d - 1)\n",
    "boundaries.set_all(0)\n",
    "left.mark(boundaries, 1)\n",
    "right.mark(boundaries, 2)\n",
    "\n",
    "\n",
    "# Define Dirichlet boundary (x = 0 or x = 1)\n",
    "u_left = fe.Expression((\"0.0\", \"0.0\"), element=element_disp)\n",
    "u_right = fe.Expression((\"1.*scale\", \"0.0\"), scale=0., element=element_disp)\n",
    "p_left = fe.Constant(0.)\n",
    "\n",
    "bcul = fe.DirichletBC(V.sub(1), u_left, left, method=\"geometric\")\n",
    "bcur = fe.DirichletBC(V.sub(1), u_right, right)\n",
    "bcs = [bcul, bcur]\n",
    "\n",
    "# Define new measures associated with the interior domains and\n",
    "# exterior boundaries\n",
    "\n",
    "dx = fe.Measure('dx', domain=mesh)\n",
    "ds = fe.Measure('ds', domain=mesh, subdomain_data=boundaries)\n",
    "\n",
    "\n",
    "# Define test and trial functions\n",
    "w = fe.Function(V)  # most recently computed solution\n",
    "(p, u) = fe.split(w)\n",
    "(q, v) = fe.TestFunctions(V)\n",
    "dw = fe.TrialFunction(V)"
   ]
  },
  {
   "cell_type": "code",
   "execution_count": 38,
   "metadata": {},
   "outputs": [],
   "source": [
    "# Mooney-Rivlin parameters (in Pa)\n",
    "# parameters taken from O. Roehrle and Heidlauf\n",
    "#c_10 = fe.Constant(6.352e4)\n",
    "#c_01 = fe.Constant(3.627e3)\n",
    "c_10 = fe.Constant(1e4)\n",
    "c_01 = fe.Constant(2e3)\n",
    "b_1 = 2.756e-5\n",
    "d_1 = 43.373\n",
    "p_max = 73.0\n",
    "f_s = 50.  # stimulation frequency (in Hz)\n",
    "\n",
    "# Not found\n",
    "rho = fe.Constant(1.1e6)\n",
    "kappa = fe.Constant(1e8)\n",
    "compr = fe.Constant(1.)\n",
    "\n",
    "\n",
    "\n",
    "# currently simplifications\n",
    "p_act = fe.Expression(\"p_max*p_act*scale\", p_act=1., p_max=73e3, scale=0., degree=0)\n",
    "lmb_f = fe.Constant(1.)"
   ]
  },
  {
   "cell_type": "code",
   "execution_count": 39,
   "metadata": {},
   "outputs": [],
   "source": [
    "# Kinematics\n",
    "I = fe.Identity(d)             # Identity tensor\n",
    "\n",
    "F = fe.variable(I + grad(u))  # Deformation gradient\n",
    "C = fe.variable(F.T*F)  # Right Cauchy-Green tensor\n",
    "J = fe.det(C)**0.5\n",
    "\n",
    "DE = lambda v: 0.5*(F.T*grad(v) + grad(v).T*F)\n",
    "\n",
    "a_0 = fe.as_vector([[0.0], [1.0]])\n",
    "A_00 = dot( a_0, a_0.T )\n",
    "\n",
    "# Invariants\n",
    "I_1 = tr(C) + 1\n",
    "I_2 = 0.5*((tr(C)+1)**2 - (tr(C*C)+1))\n",
    "\n",
    "I_4 = dot(a_0.T, C*a_0)\n",
    "\n",
    "\n",
    "I1_ = J**(-2./3.)*I_1\n",
    "I2_ = J**(-4./3.)*I_2\n",
    "\n",
    "W_iso = c_10*(I1_ - 3) + c_01*(I2_ - 3) - p*(J-1) - compr*p**2/2*kappa\n",
    "\n",
    "#P_iso = fe.diff(W_iso, F)\n",
    "S_iso = 2.*fe.diff(W_iso,C)\n",
    "\n",
    "S_passive = lmb_f**(-1)*p_act*A_00\n",
    "S_ani = b_1 * ( lmb_f**(d_1-2) - lmb_f**(-2) ) * A_00\n",
    "\n",
    "S = S_iso + S_passive + S_ani\n",
    "\n",
    "F_static = inner(S, DE(v))*dx - rho*inner(b, v)*dx - inner(t_bar, v)*ds(2) + (compr*p/kappa + (J-1))*q*dx"
   ]
  },
  {
   "cell_type": "code",
   "execution_count": 40,
   "metadata": {},
   "outputs": [],
   "source": [
    "# solve static case\n",
    "\n",
    "J_static = fe.derivative(F_static, w, dw)\n",
    "\n",
    "ffc_options = {\"optimize\": True}\n",
    "problem = fe.NonlinearVariationalProblem(F_static, w, bcs, J=J_static, form_compiler_parameters=ffc_options)\n",
    "solver = fe.NonlinearVariationalSolver(problem)"
   ]
  },
  {
   "cell_type": "code",
   "execution_count": 41,
   "metadata": {},
   "outputs": [
    {
     "data": {
      "application/vnd.jupyter.widget-view+json": {
       "model_id": "809fb16f607e4900b4a27b66e40684de",
       "version_major": 2,
       "version_minor": 0
      },
      "text/plain": [
       "interactive(children=(FloatSlider(value=0.0, description='scale', max=1.0, step=0.05), IntSlider(value=6, desc…"
      ]
     },
     "metadata": {},
     "output_type": "display_data"
    }
   ],
   "source": [
    "w_steady = fe.Function(V) \n",
    "\n",
    "def demo_plt(scale=0.,kappa_exp=4.,incompr=False):\n",
    "\n",
    "    #print(\"working...\", end=\"\\r\")\n",
    "    p_act.scale = scale\n",
    "    kappa.assign( fe.Constant(10**kappa_exp) )\n",
    "    if incompr:\n",
    "        compr.assign(fe.Constant(0.))\n",
    "    else:\n",
    "        compr.assign(fe.Constant(1.))\n",
    "    solver.solve()\n",
    "    \n",
    "    plt.subplot(121)\n",
    "    w_plt = fe.plot(w.sub(1), mode='displacement')\n",
    "    plt.gca().set_aspect('equal', adjustable='box')\n",
    "    plt.subplot(122)\n",
    "    w_plt = fe.plot(w.sub(0))\n",
    "    plt.gca().set_aspect('equal', adjustable='box')\n",
    "    \n",
    "    w_steady.assign(w)\n",
    "    \n",
    "    J_mat = fe.assemble(J_static)\n",
    "    J_np = np.matrix(J_mat.array())\n",
    "    #print(\"done!     \")\n",
    "    #print(np.log10(condest(J_np, maxiter=100)))\n",
    "\n",
    "    \n",
    "w.assign(fe.Function(V))\n",
    "plt_wdg = ipw.interact( demo_plt, scale=ipw.FloatSlider(min=0,max=1,step=0.05,value=0), \n",
    "             kappa_exp=ipw.IntSlider(min=1,max=18,value=6),\n",
    "             incompr = ipw.Checkbox())\n",
    "\n",
    "# Adjust widget height to prevent flickering\n",
    "output = plt_wdg.widget\n",
    "output.layout.height = '450px'"
   ]
  },
  {
   "cell_type": "code",
   "execution_count": 103,
   "metadata": {},
   "outputs": [
    {
     "data": {
      "text/plain": [
       "(0, 1)"
      ]
     },
     "execution_count": 103,
     "metadata": {},
     "output_type": "execute_result"
    }
   ],
   "source": [
    "solver.solve()"
   ]
  },
  {
   "cell_type": "code",
   "execution_count": 104,
   "metadata": {},
   "outputs": [],
   "source": [
    "# time integration, use previously computed steady state as initial value\n",
    "\n",
    "# explicit time integration!\n",
    "t_end = 1.\n",
    "dt = 0.1\n",
    "\n",
    "w_hist = [w]\n",
    "\n",
    "\n",
    "while t < t_end:    \n",
    "    w"
   ]
  },
  {
   "cell_type": "code",
   "execution_count": 105,
   "metadata": {},
   "outputs": [],
   "source": [
    "F_mat = fe.assemble(F_static)"
   ]
  },
  {
   "cell_type": "code",
   "execution_count": 106,
   "metadata": {},
   "outputs": [
    {
     "data": {
      "text/plain": [
       "35989857.719407365"
      ]
     },
     "execution_count": 106,
     "metadata": {},
     "output_type": "execute_result"
    }
   ],
   "source": [
    "J_mat = fe.assemble(J_static)\n",
    "J_np = np.matrix(J_mat.array())\n",
    "condest(J_np, maxiter=100)"
   ]
  },
  {
   "cell_type": "code",
   "execution_count": 107,
   "metadata": {},
   "outputs": [
    {
     "data": {
      "image/png": "[encoded data removed]",
      "text/plain": [
       "<Figure size 432x288 with 1 Axes>"
      ]
     },
     "metadata": {},
     "output_type": "display_data"
    }
   ],
   "source": [
    "fe.plot(w_steady.sub(0), mode=\"displacement\")"
   ]
  },
  {
   "cell_type": "code",
   "execution_count": 108,
   "metadata": {},
   "outputs": [],
   "source": [
    "# Init function spaces\n",
    "element_disp = fe.VectorElement(\"P\", mesh.ufl_cell(), 2)\n",
    "element_vel = fe.VectorElement(\"P\", mesh.ufl_cell(), 2)\n",
    "\n",
    "# Mixed function space\n",
    "TH = fe.MixedElement([element, element_disp, element_vel]) \n",
    "V_td = fe.FunctionSpace(mesh, TH)\n",
    "V_1 = fe.FunctionSpace(mesh, element)\n",
    "V_disp = fe.FunctionSpace(mesh, element_disp)\n",
    "V_vel = fe.FunctionSpace(mesh, element_vel)\n",
    "\n",
    "def add_zero_vel(v):\n",
    "    w = fe.Function(V_td)\n",
    "    fe.assign( w.sub(0), v.sub(0) )\n",
    "    fe.assign( w.sub(1), v.sub(1) )\n",
    "    return w   \n"
   ]
  },
  {
   "cell_type": "code",
   "execution_count": 119,
   "metadata": {},
   "outputs": [
    {
     "data": {
      "application/vnd.jupyter.widget-view+json": {
       "model_id": "a0432e79d82c4df88463190bdbec6425",
       "version_major": 2,
       "version_minor": 0
      },
      "text/plain": [
       "FloatProgress(value=0.0, max=0.01)"
      ]
     },
     "metadata": {},
     "output_type": "display_data"
    }
   ],
   "source": [
    "# Define test and trial functions\n",
    "(ptr, utr, vtr) = fe.TrialFunctions(V_td)\n",
    "(pts, uts, vts) = fe.TestFunctions(V_td)\n",
    "\n",
    "w_last = add_zero_vel(w_steady)\n",
    "(pl, ul, vl) = fe.split(w_last)\n",
    "\n",
    "# Kinematics\n",
    "I = fe.Identity(d)             # Identity tensor\n",
    "\n",
    "F = fe.variable(I + grad(ul))  # Deformation gradient\n",
    "C = fe.variable(F.T*F)  # Right Cauchy-Green tensor\n",
    "J = fe.det(C)**0.5  # note: this step is important, to get the correct derivative, J depends on C as it depends on F.\n",
    "\n",
    "a_0 = fe.as_vector([[0.], [1.]])\n",
    "A_00 = dot( a_0, a_0.T )\n",
    "\n",
    "# Invariants\n",
    "I_1 = tr(C) + 1\n",
    "I_2 = 0.5*((tr(C)+1)**2 - (tr(C*C)+1))\n",
    "I_4 = dot(a_0.T, C*a_0)\n",
    "\n",
    "I1_ = J**(-2./3.)*I_1\n",
    "I2_ = J**(-4./3.)*I_2\n",
    "\n",
    "lag_mult = fe.Constant(0.)\n",
    "\n",
    "W_iso = c_10*(I1_ - 3) + c_01*(I2_ - 3)  # - lag_mult*p*(J-1) - lag_mult*compr*p**2/2*kappa\n",
    "\n",
    "S_iso = 2.*fe.diff(W_iso,C)\n",
    "\n",
    "S_passive = lmb_f**(-1)*p_act*A_00\n",
    "S_ani = b_1 * ( lmb_f**(d_1-2) - lmb_f**(-2) ) * A_00\n",
    "\n",
    "S = S_iso  # + S_passive + S_ani\n",
    "\n",
    "dt = fe.Constant(0.0001)\n",
    "t_end = 1e2*float(dt)\n",
    "\n",
    "\n",
    "DE = lambda v: 0.5*(F.T*grad(v) + grad(v).T*F)\n",
    "\n",
    "F_stat = inner(S, DE(uts))*dx - rho*inner(b, uts)*dx - inner(t_bar, uts)*ds(2)\n",
    "F_dyn_vel = rho*inner(vtr - vl, uts)*dx + ptr*pts*dx + F_stat\n",
    "\n",
    "F_dyn_pos = inner(utr - ul, vts)*dx - inner(vl, vts)*dx\n",
    "\n",
    "F_dyn = F_dyn_vel + F_dyn_pos\n",
    "\n",
    "\n",
    "\n",
    "a_v = fe.lhs(F_dyn_vel)\n",
    "L_v = fe.rhs(F_dyn_vel)\n",
    "\n",
    "\n",
    "a_p = fe.lhs(F_dyn_pos)\n",
    "L_p = fe.rhs(F_dyn_pos)\n",
    "\n",
    "compr.assign(fe.Constant(1.))\n",
    "kappa.kappa = 1e0\n",
    "\n",
    "\n",
    "w_hist = [fe.Function(V_td)]\n",
    "w_hist[-1].assign(w_last)\n",
    "\n",
    "w_next = fe.Function(V_td)\n",
    "\n",
    "f = ipw.FloatProgress(min=0, max=t_end) # instantiate the bar\n",
    "display(f) # display the bar\n",
    "\n",
    "\n",
    "bcul_td = fe.DirichletBC(V_td.sub(1), u_left, left, method=\"geometric\")\n",
    "bcur_td = fe.DirichletBC(V_td.sub(1), u_right, right)\n",
    "bcs_td = [bcul_td, bcur_td]\n",
    "\n",
    "freq = 0.\n",
    "\n",
    "t = 0\n",
    "while t < t_end:\n",
    "    \n",
    "    #p_act.scale = 0.5 - 0.5*np.cos(2*t*fe.pi*freq*t)\n",
    "    \n",
    "    fe.solve(a==L, w_next, bcs_td)\n",
    "    \n",
    "    w_slast.assign(w_last)\n",
    "    w_last.assign(w_next)\n",
    "    \n",
    "    w_hist.append(fe.Function(V))\n",
    "    w_hist[-1].assign(w_last)\n",
    "    \n",
    "    t += float(dt)\n",
    "    f.value = t"
   ]
  },
  {
   "cell_type": "code",
   "execution_count": 120,
   "metadata": {},
   "outputs": [
    {
     "data": {
      "application/vnd.jupyter.widget-view+json": {
       "model_id": "7bf550cba25f432298650df98a214392",
       "version_major": 2,
       "version_minor": 0
      },
      "text/plain": [
       "interactive(children=(FloatSlider(value=0.0, description='t', max=0.01, step=0.0001), Output()), _dom_classes=…"
      ]
     },
     "metadata": {},
     "output_type": "display_data"
    },
    {
     "data": {
      "text/plain": [
       "<function __main__.show_time(t)>"
      ]
     },
     "execution_count": 120,
     "metadata": {},
     "output_type": "execute_result"
    }
   ],
   "source": [
    "def show_time(t):\n",
    "    \n",
    "    i = int(np.floor(t/float(dt)))\n",
    "    i = max(0, min(len(w_hist)-1, i))\n",
    "        \n",
    "    plt.subplot(121)\n",
    "    w_plt = fe.plot(w_hist[i].sub(1), mode=\"displacement\")\n",
    "    plt.colorbar(w_plt)\n",
    "    plt.gca().set_aspect('equal', adjustable='box')\n",
    "    plt.subplot(122)\n",
    "    p_plt = fe.plot(w_hist[i].sub(0))\n",
    "    plt.gca().set_aspect('equal', adjustable='box')\n",
    "    plt.colorbar(w_plt)\n",
    "    \n",
    "    \n",
    "    \n",
    "ipw.interact( show_time, t=ipw.FloatSlider(min=0,max=t_end,step=float(dt),value=0))"
   ]
  },
  {
   "cell_type": "code",
   "execution_count": 114,
   "metadata": {},
   "outputs": [
    {
     "data": {
      "text/plain": [
       "(1.137007198985262, 3.1783602617257527)"
      ]
     },
     "execution_count": 114,
     "metadata": {},
     "output_type": "execute_result"
    }
   ],
   "source": [
    "mesh.hmin(), mesh.hmax()"
   ]
  },
  {
   "cell_type": "code",
   "execution_count": null,
   "metadata": {},
   "outputs": [],
   "source": [
    "fe.plot(w_steady.sub(0), mode=\"displacement\")\n",
    "plt.show()\n",
    "fe.plot(w_hist[0].sub(0), mode=\"displacement\")"
   ]
  },
  {
   "cell_type": "code",
   "execution_count": 35,
   "metadata": {},
   "outputs": [
    {
     "data": {
      "image/png": "[encoded data removed]",
      "text/latex": [
       "${w_h^23366}$"
      ],
      "text/plain": [
       "Coefficient(FunctionSpace(Mesh(VectorElement(FiniteElement('Lagrange', triangle, 1), dim=2), 3), MixedElement(VectorElement(FiniteElement('Lagrange', triangle, 2), dim=2), FiniteElement('Lagrange', triangle, 1))), 23366)"
      ]
     },
     "execution_count": 35,
     "metadata": {},
     "output_type": "execute_result"
    }
   ],
   "source": [
    "w_hist[1]"
   ]
  },
  {
   "cell_type": "code",
   "execution_count": 65,
   "metadata": {},
   "outputs": [
    {
     "data": {
      "text/plain": [
       "<matplotlib.collections.PolyCollection at 0x125b90eb8>"
      ]
     },
     "execution_count": 65,
     "metadata": {},
     "output_type": "execute_result"
    },
    {
     "data": {
      "image/png": "[encoded data removed]",
      "text/plain": [
       "<Figure size 432x288 with 1 Axes>"
      ]
     },
     "metadata": {},
     "output_type": "display_data"
    }
   ],
   "source": [
    "fe.plot(w_steady.sub(0), mode=\"displacement\")"
   ]
  },
  {
   "cell_type": "code",
   "execution_count": null,
   "metadata": {},
   "outputs": [],
   "source": [
    "plt.spy(A_mat)"
   ]
  },
  {
   "cell_type": "code",
   "execution_count": null,
   "metadata": {},
   "outputs": [],
   "source": [
    "form = dp*2*q*dx(mesh)\n"
   ]
  },
  {
   "cell_type": "code",
   "execution_count": null,
   "metadata": {},
   "outputs": [],
   "source": [
    "form_action = fe.action(form, dw)"
   ]
  },
  {
   "cell_type": "code",
   "execution_count": null,
   "metadata": {},
   "outputs": [],
   "source": [
    "from_mat = np.matrix( fe.assemble(form_action).array())"
   ]
  },
  {
   "cell_type": "code",
   "execution_count": null,
   "metadata": {},
   "outputs": [],
   "source": [
    "from_mat.shape"
   ]
  },
  {
   "cell_type": "code",
   "execution_count": null,
   "metadata": {},
   "outputs": [],
   "source": []
  },
  {
   "cell_type": "code",
   "execution_count": null,
   "metadata": {},
   "outputs": [],
   "source": []
  }
 ],
 "metadata": {
  "kernelspec": {
   "display_name": "Python 3",
   "language": "python",
   "name": "python3"
  }
 },
 "nbformat": 4,
 "nbformat_minor": 2
}
